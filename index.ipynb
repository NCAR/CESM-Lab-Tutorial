{
 "cells": [
  {
   "cell_type": "markdown",
   "metadata": {},
   "source": [
    "![](images/logo.png)\n",
    "# <center>CESM-Lab Tutorials </center>\n",
    "\n",
    "\n",
    "Welcome to CESM! This tutorial is intended to provide a quick introduction to using the Community Earth System Model by providing self-contained examples in Jupyter Notebooks. A list of lessons is below; you can click on any to open up a Notebook and get started.\n",
    "\n",
    "We'd love to hear from you on the [CESM Forums](https://bb.cgd.ucar.edu/cesm/), and welcome any suggestions on missing topics, new ideas, user contributions and other ways of improving this resource!\n",
    "\n",
    "\n",
    "\n",
    "1. [Quick Start](CESM/QuickStart.ipynb) (~20-40 minutes, depending on system performance)\n",
    "<br>\n",
    "*This lesson is a quick walkthrough of all the key steps in running CESM out-of-the-box. You'll create a new experiment, set it up, build it, run it, and using an existing visualization function, visualize the global temperature profile.*\n",
    "\n",
    "---\n",
    "\n",
    "2. CESM Tutorials  \n",
    "\n",
    "    [Creating cases](CESM/Creating_cases.ipynb)  (~10 minutes)\n",
    "\n",
    "    [Case settings & 'xmlchange'](CESM/Case_settings.ipynb) (~10 minutes)\n",
    "    \n",
    "    [Modifying CESM namelists](CESM/Modifying_namelists.ipynb) (~20 minutes)\n",
    "    \n",
    "---\n",
    "    \n",
    "3. Component-specific Tutorials\n",
    "\n",
    "    [CAM (atmosphere)](Components/CAM_tutorial1.ipynyb) (~ 45 minutes)\n",
    "\n",
    "    [POP (ocean)](Components/POP_tutorial1.ipynb) (~30 minutes)\n",
    "\n",
    "---\n",
    "\n",
    "3. Visualization\n",
    "\n",
    "    [Getting started with Matplotlib](Visualization/Getting_started_matplotlib.ipynb) (~30 minutes)\n",
    "\n",
    "---\n",
    "\n",
    "4. Analysis\n",
    "\n",
    "    [CESM-LENS data on AWS](Analysis/CESM-LENS_analysis.ipynb) (~20 minutes)\n",
    "\n",
    "\n",
    "\n",
    "\n"
   ]
  }
 ],
 "metadata": {
  "kernelspec": {
   "display_name": "Python [conda env:default] *",
   "language": "python",
   "name": "conda-env-default-py"
  },
  "language_info": {
   "codemirror_mode": {
    "name": "ipython",
    "version": 3
   },
   "file_extension": ".py",
   "mimetype": "text/x-python",
   "name": "python",
   "nbconvert_exporter": "python",
   "pygments_lexer": "ipython3",
   "version": "3.7.8"
  }
 },
 "nbformat": 4,
 "nbformat_minor": 4
}
